{
 "cells": [
  {
   "cell_type": "code",
   "execution_count": 9,
   "metadata": {},
   "outputs": [],
   "source": [
    "import itertools"
   ]
  },
  {
   "cell_type": "code",
   "execution_count": 58,
   "metadata": {},
   "outputs": [
    {
     "data": {
      "text/plain": [
       "False"
      ]
     },
     "execution_count": 58,
     "metadata": {},
     "output_type": "execute_result"
    }
   ],
   "source": [
    "def senbetsu(inp_line, line_of_all):\n",
    "    tmp = []\n",
    "    for loa in line_of_all:\n",
    "        for num, (i, l) in enumerate(zip(inp_line, loa)):\n",
    "            if i != l and i != 0:\n",
    "                break\n",
    "            if num == 8:\n",
    "                tmp.append(loa)\n",
    "    return tmp\n",
    "\n",
    "def has_duplicates(seq):\n",
    "    return len(seq) != len(set(seq))\n",
    "\n",
    "def compare_inp(input_m, matrix):\n",
    "    for inp, mat in zip(input_m, matrix):\n",
    "        for i, m in zip(inp, mat):\n",
    "            if i == 0:\n",
    "                return True\n",
    "            elif i == m:\n",
    "                return True\n",
    "            else:\n",
    "                return False\n",
    "\n",
    "def check_by_verticle(input_m, matrix):\n",
    "    \"\"\"\n",
    "    if len(matrix) != 9:\n",
    "        print(\"E\")\n",
    "        return False\n",
    "    \"\"\"\n",
    "    v_size = len(matrix)\n",
    "    for i in range(0, 9):\n",
    "        v_line = [matrix[v][i] for v in range(v_size)]\n",
    "\n",
    "        if has_duplicates(v_line):\n",
    "            return False\n",
    "    \"\"\"\n",
    "    for l in matrix:\n",
    "        if len(matrix) != 9:\n",
    "            print(\"E2\")\n",
    "            return False\n",
    "    \"\"\"\n",
    "\n",
    "    #if not compare_inp(input_m[:v_size], matrix):\n",
    "    #    return False\n",
    "\n",
    "    return True\n",
    "\n",
    "check_by_verticle(inp, test_mini)"
   ]
  },
  {
   "cell_type": "code",
   "execution_count": 66,
   "metadata": {},
   "outputs": [],
   "source": [
    "def solv_main(inp):\n",
    "    all_list = [list(i) for i in itertools.permutations(range(1, 10))]\n",
    "    predict_list = [\n",
    "        senbetsu(inp[i], all_list) for i in range(0, 9)\n",
    "    ]\n",
    "    print(f\"各行の候補数: {[len(n) for n in predict_list]}\")\n",
    "    for l0 in predict_list[0]:\n",
    "        for l1 in predict_list[1]:\n",
    "            if not check_by_verticle(inp, [l1]):\n",
    "                continue\n",
    "            for l2 in predict_list[2]:\n",
    "                if not check_by_verticle(inp, [l1, l2]):\n",
    "                    continue\n",
    "                for l3 in predict_list[3]:\n",
    "                    if not check_by_verticle(inp, [l1, l2, l3]):\n",
    "                        continue\n",
    "                    for l4 in predict_list[4]:\n",
    "                        if not check_by_verticle(inp, [l1, l2, l3, l4]):\n",
    "                            continue\n",
    "                        for l5 in predict_list[5]:\n",
    "                            if not check_by_verticle(inp, [l1, l2, l3, l4, l5]):\n",
    "                                continue\n",
    "                            for l6 in predict_list[6]:\n",
    "                                if not check_by_verticle(inp, [l1, l2, l3, l4, l5, l6]):\n",
    "                                    continue\n",
    "                                for l7 in predict_list[7]:\n",
    "                                    if not check_by_verticle(inp, [l1, l2, l3, l4, l5, l6, l7]):\n",
    "                                        continue\n",
    "                                    for l8 in predict_list[8]:\n",
    "                                        if not check_by_verticle(inp, [l1, l2, l3, l4, l5, l6, l7, l8]):\n",
    "                                            continue\n",
    "                                        matrix = [\n",
    "                                            l0,l1,l2,l3,l4,l5,l6,l7,l8\n",
    "                                        ]\n",
    "                                        if check_by_verticle(inp, matrix):\n",
    "                                            print(\"Done\\n\")\n",
    "                                            for m in matrix:\n",
    "                                                print(m)"
   ]
  },
  {
   "cell_type": "code",
   "execution_count": 67,
   "metadata": {},
   "outputs": [
    {
     "name": "stdout",
     "output_type": "stream",
     "text": [
      "各行の候補数: [24, 120, 720, 120, 5040, 720, 5040, 5040, 5040]\n"
     ]
    }
   ],
   "source": [
    "inp = [\n",
    "    [1, 8, 0, 0, 4, 0, 2, 0, 7],\n",
    "    [0, 2, 0, 0, 7, 0, 1, 9, 0],\n",
    "    [0, 0, 3, 0, 2, 0, 0, 0, 4],\n",
    "    [2, 1, 0, 4, 0, 3, 0, 0, 0],\n",
    "    [3, 0, 0, 0, 5, 0, 0, 0, 0],\n",
    "    [0, 0, 5, 1, 0, 6, 0, 0, 0],\n",
    "    [0, 0, 6, 0, 0, 0, 7, 0, 0],\n",
    "    [0, 5, 0, 0, 0, 0, 0, 8, 0],\n",
    "    [4, 0, 0, 0, 0, 0, 0, 0, 9],\n",
    "]\n",
    "\n",
    "solv_main(inp)"
   ]
  },
  {
   "cell_type": "code",
   "execution_count": null,
   "metadata": {},
   "outputs": [],
   "source": []
  }
 ],
 "metadata": {
  "interpreter": {
   "hash": "981d6723798d7ec5c4c236b073997b3984417829f1cd7a7f64f15c4fc0ed2c61"
  },
  "kernelspec": {
   "display_name": "Python 3.9.10 ('base')",
   "language": "python",
   "name": "python3"
  },
  "language_info": {
   "codemirror_mode": {
    "name": "ipython",
    "version": 3
   },
   "file_extension": ".py",
   "mimetype": "text/x-python",
   "name": "python",
   "nbconvert_exporter": "python",
   "pygments_lexer": "ipython3",
   "version": "3.9.10"
  },
  "orig_nbformat": 4
 },
 "nbformat": 4,
 "nbformat_minor": 2
}
